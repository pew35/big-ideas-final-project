{
 "cells": [
  {
   "cell_type": "markdown",
   "metadata": {},
   "source": [
    "# Final Project\n",
    "By: Urjeet Deshmukh, Hosea Wah, and Peiyi Wu\n",
    "\n",
    "----"
   ]
  },
  {
   "cell_type": "markdown",
   "metadata": {},
   "source": [
    "### Introduction\n",
    "We have decided to analyze each neighborhood based on several factors to conclude which neighborhood is indeed the \"best.\" "
   ]
  },
  {
   "cell_type": "markdown",
   "metadata": {},
   "source": [
    "#### Police Firearm Seizures - Urjeet Deshmukh\n",
    "Metric Explanation: I decided to use the metric of the number of firearms that were confiscated by police in each respective neighborhood. Seizures are associated with illegal ownership, the suspected usage of a firearm in a crime, or simply public safety maintenance. This is a proper metric to guage the \"best\" neighborhood becuase it justifies many qualities such as connection to crime and the active threat that could be possible."
   ]
  },
  {
   "cell_type": "code",
   "execution_count": 21,
   "metadata": {},
   "outputs": [],
   "source": [
    "import pandas as pd\n",
    "import numpy as np"
   ]
  },
  {
   "cell_type": "code",
   "execution_count": 7,
   "metadata": {},
   "outputs": [],
   "source": [
    "import ssl\n",
    "\n",
    "ssl._create_default_https_context = ssl._create_unverified_context"
   ]
  },
  {
   "cell_type": "markdown",
   "metadata": {},
   "source": [
    "##### Sample Data"
   ]
  },
  {
   "cell_type": "code",
   "execution_count": 2,
   "metadata": {},
   "outputs": [
    {
     "data": {
      "text/html": [
       "<div>\n",
       "<style scoped>\n",
       "    .dataframe tbody tr th:only-of-type {\n",
       "        vertical-align: middle;\n",
       "    }\n",
       "\n",
       "    .dataframe tbody tr th {\n",
       "        vertical-align: top;\n",
       "    }\n",
       "\n",
       "    .dataframe thead th {\n",
       "        text-align: right;\n",
       "    }\n",
       "</style>\n",
       "<table border=\"1\" class=\"dataframe\">\n",
       "  <thead>\n",
       "    <tr style=\"text-align: right;\">\n",
       "      <th></th>\n",
       "      <th>neighborhood</th>\n",
       "      <th>total_count</th>\n",
       "    </tr>\n",
       "  </thead>\n",
       "  <tbody>\n",
       "    <tr>\n",
       "      <th>1283</th>\n",
       "      <td>Hazelwood</td>\n",
       "      <td>2</td>\n",
       "    </tr>\n",
       "    <tr>\n",
       "      <th>2381</th>\n",
       "      <td>Perry South</td>\n",
       "      <td>1</td>\n",
       "    </tr>\n",
       "    <tr>\n",
       "      <th>2760</th>\n",
       "      <td>Central Business District</td>\n",
       "      <td>1</td>\n",
       "    </tr>\n",
       "    <tr>\n",
       "      <th>1075</th>\n",
       "      <td>Homewood North</td>\n",
       "      <td>1</td>\n",
       "    </tr>\n",
       "    <tr>\n",
       "      <th>867</th>\n",
       "      <td>Garfield</td>\n",
       "      <td>1</td>\n",
       "    </tr>\n",
       "  </tbody>\n",
       "</table>\n",
       "</div>"
      ],
      "text/plain": [
       "                   neighborhood  total_count\n",
       "1283                  Hazelwood            2\n",
       "2381                Perry South            1\n",
       "2760  Central Business District            1\n",
       "1075             Homewood North            1\n",
       "867                    Garfield            1"
      ]
     },
     "execution_count": 2,
     "metadata": {},
     "output_type": "execute_result"
    }
   ],
   "source": [
    "# Import data and show a sample of 10 rows observing neighborhood\n",
    "df = pd.read_csv(\"https://data.wprdc.org/datastore/dump/e967381d-d7e9-48e3-a2a2-39262f7fa5c4\")\n",
    "simplified_data = df[['neighborhood', 'total_count']]\n",
    "simplified_data.sample(5)"
   ]
  },
  {
   "cell_type": "markdown",
   "metadata": {},
   "source": [
    "##### Total Firearms and Total Neighborhoods"
   ]
  },
  {
   "cell_type": "code",
   "execution_count": 3,
   "metadata": {},
   "outputs": [
    {
     "name": "stdout",
     "output_type": "stream",
     "text": [
      "The total amount of firearms confiscated in every neighborhood is 3757\n"
     ]
    }
   ],
   "source": [
    "# Compute total amount of firearms confiscated in every neighborhood\n",
    "total_firearms = simplified_data['total_count'].sum()\n",
    "print('The total amount of firearms confiscated in every neighborhood is', total_firearms)"
   ]
  },
  {
   "cell_type": "code",
   "execution_count": 4,
   "metadata": {},
   "outputs": [
    {
     "name": "stdout",
     "output_type": "stream",
     "text": [
      "There are a total of 88 different neighborhoods\n"
     ]
    }
   ],
   "source": [
    "total_neighborhoods = len(simplified_data['neighborhood'].unique())\n",
    "print('There are a total of', total_neighborhoods, 'different neighborhoods')"
   ]
  },
  {
   "cell_type": "markdown",
   "metadata": {},
   "source": [
    "##### Descending and Ascending Data Regarding Amount of Firearms Seized"
   ]
  },
  {
   "cell_type": "code",
   "execution_count": 17,
   "metadata": {},
   "outputs": [
    {
     "data": {
      "text/plain": [
       "Homewood South               158\n",
       "South Side Flats             110\n",
       "Larimer                       88\n",
       "Homewood North                86\n",
       "Hazelwood                     80\n",
       "Carrick                       75\n",
       "Marshall-Shadeland            75\n",
       "Perry South                   73\n",
       "Sheraden                      72\n",
       "Central Business District     71\n",
       "Name: neighborhood, dtype: int64"
      ]
     },
     "execution_count": 17,
     "metadata": {},
     "output_type": "execute_result"
    }
   ],
   "source": [
    "final_data_descending = simplified_data['neighborhood'].value_counts()\n",
    "final_data_descending.head(10)"
   ]
  },
  {
   "cell_type": "code",
   "execution_count": 19,
   "metadata": {},
   "outputs": [
    {
     "data": {
      "text/plain": [
       "<matplotlib.axes._subplots.AxesSubplot at 0x7f758a541828>"
      ]
     },
     "execution_count": 19,
     "metadata": {},
     "output_type": "execute_result"
    },
    {
     "data": {
      "image/png": "[encoded data removed]",
      "text/plain": [
       "<Figure size 432x288 with 1 Axes>"
      ]
     },
     "metadata": {
      "needs_background": "light"
     },
     "output_type": "display_data"
    }
   ],
   "source": [
    "import matplotlib.pyplot as plt\n",
    "final_data_descending.head(10).plot.bar()"
   ]
  },
  {
   "cell_type": "code",
   "execution_count": 13,
   "metadata": {},
   "outputs": [
    {
     "data": {
      "text/plain": [
       "Lincoln Place     1\n",
       "Esplen            2\n",
       "Mt. Oliver        2\n",
       "Oakwood           2\n",
       "Summer Hill       2\n",
       "West End          2\n",
       "Friendship        3\n",
       "Hays              3\n",
       "Chartiers City    3\n",
       "Regent Square     3\n",
       "Name: neighborhood, dtype: int64"
      ]
     },
     "execution_count": 13,
     "metadata": {},
     "output_type": "execute_result"
    }
   ],
   "source": [
    "final_data_ascending = simplified_data['neighborhood'].value_counts().sort_values(ascending = True)\n",
    "final_data_ascending.head(10)"
   ]
  },
  {
   "cell_type": "code",
   "execution_count": 20,
   "metadata": {},
   "outputs": [
    {
     "data": {
      "text/plain": [
       "<matplotlib.axes._subplots.AxesSubplot at 0x7f758a486f98>"
      ]
     },
     "execution_count": 20,
     "metadata": {},
     "output_type": "execute_result"
    },
    {
     "data": {
      "image/png": "[encoded data removed]",
      "text/plain": [
       "<Figure size 432x288 with 1 Axes>"
      ]
     },
     "metadata": {
      "needs_background": "light"
     },
     "output_type": "display_data"
    }
   ],
   "source": [
    "import matplotlib.pyplot as plt\n",
    "final_data_ascending.head(10).plot.bar()"
   ]
  },
  {
   "cell_type": "markdown",
   "metadata": {},
   "source": [
    "#### Urjeet Deshmukh's Metric Final Analysis\n",
    "Metric 1: I measured the amount of firearms seized per neighborhood. It is important to remember this is the data of firearms seized due to wrongful holdings rather than legal possession of a firearm. I narrowed my data set to only show the certain neighborhoods and total amount of firearms seized. I split my data to show the top 10 and bottom 10 following ascending and descending methods. According to the data analyzed, Lincoln Place is the safest neighborhood as only 1 firearm was seized. Next follow the neighborhoods of Esplen, Mt. Oliver, Oakwood, Summer Hill, and West End all with 2 firearms seized in each respective neighborhood. Only according to my metric, disregarding other metrics, I deduce that Lincoln Place is the \"best\" neighborhood in terms of firearms seized.\n",
    "\n",
    "----"
   ]
  },
  {
   "cell_type": "code",
   "execution_count": null,
   "metadata": {},
   "outputs": [],
   "source": []
  }
 ],
 "metadata": {
  "kernelspec": {
   "display_name": "Python 3",
   "language": "python",
   "name": "python3"
  },
  "language_info": {
   "codemirror_mode": {
    "name": "ipython",
    "version": 3
   },
   "file_extension": ".py",
   "mimetype": "text/x-python",
   "name": "python",
   "nbconvert_exporter": "python",
   "pygments_lexer": "ipython3",
   "version": "3.6.7"
  }
 },
 "nbformat": 4,
 "nbformat_minor": 4
}
